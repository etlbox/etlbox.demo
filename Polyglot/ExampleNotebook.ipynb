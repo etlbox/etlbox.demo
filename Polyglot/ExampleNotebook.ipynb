{
 "cells": [
  {
   "cell_type": "markdown",
   "metadata": {},
   "source": [
    "# ETLBox in Polyglot notebooks\n",
    "\n",
    "## Further links: \n",
    "- ETLBox: https://www.etlbox.net\n",
    "- Polyglot Notebooks: https://devblogs.microsoft.com/dotnet/announcing-polyglot-notebooks-harness-the-power-of-multilanguage-notebooks-in-visual-studio-code\n",
    "- ScottPlot: https://scottplot.net/quickstart/notebook/ to learn how to setup VS Code and Polyglot extensions\n",
    "- Microsoft DataFrame: https://learn.microsoft.com/en-us/dotnet/machine-learning/how-to-guides/getting-started-dataframe\n",
    "\n",
    "## Preparation\n",
    "\n",
    "- Install VS Code\n",
    "- Install the VS Code Polyglot Notebooks extension\n",
    "\n",
    "## Running the Example\n",
    "\n",
    "- Make sure to have an instance of SqlServer available, with a database called \"demo\".\n",
    "- Adjust the connection string to your local database in the preparation step.\n",
    "\n",
    "### Starting the existing notebook\n",
    "\n",
    "- Open the `.ipynb` with this example, run all code. \n",
    "\n",
    "### Create your own fresh new notebook\n",
    "\n",
    "- Press CTRL + SHIFT + P to open the command dialogue\n",
    "- Select Polyglot Notebook: Create Default Notebook\n",
    "- Choose the .ipynb extension and select the C# language\n",
    "- Add the coe blogs as instructed\n",
    "\n"
   ]
  },
  {
   "cell_type": "code",
   "execution_count": null,
   "metadata": {
    "dotnet_interactive": {
     "language": "csharp"
    },
    "polyglot_notebook": {
     "kernelName": "csharp"
    }
   },
   "outputs": [],
   "source": [
    "\n",
    "//Step 1: Prepare the database\n",
    "//Adjust the connection manager to work with your database connection\n",
    "//A database \"demo\" must be created before\n",
    "\n",
    "#r \"nuget:ETLBox.SqlServer, 3.4.0\"\n",
    "\n",
    "using ETLBox;\n",
    "using ETLBox.SqlServer;\n",
    "using ETLBox.ControlFlow;\n",
    "\n",
    "Console.WriteLine(\"Creating demo table with data in database 'demo'!\");\n",
    "\n",
    "IConnectionManager connMan = new SqlConnectionManager(\"Data Source=localhost;User Id=sa;Password=YourStrong@Passw0rd;Initial Catalog=demo;TrustServerCertificate=true;\");\n",
    "var def = new TableDefinition(\"Test\", new List<TableColumn>() {\n",
    "    new TableColumn(\"Id\", \"INT\", allowNulls: false, isIdentity:true, isPrimaryKey:true),\n",
    "    new TableColumn(\"XValue\", \"DATETIME\", allowNulls: false),\n",
    "    new TableColumn(\"YValue\", \"INT\", allowNulls: false)\n",
    "});\n",
    "DropTableTask.DropIfExists(connMan, \"Test\");\n",
    "CreateTableTask.CreateIfNotExists(connMan, def);\n",
    "SqlTask.ExecuteNonQuery(connMan, \"INSERT INTO Test VALUES('2022-01-01',100)\");\n",
    "SqlTask.ExecuteNonQuery(connMan, \"INSERT INTO Test VALUES('2022-01-02',350)\");\n",
    "SqlTask.ExecuteNonQuery(connMan, \"INSERT INTO Test VALUES('2022-01-03',470)\");\n",
    "SqlTask.ExecuteNonQuery(connMan, \"INSERT INTO Test VALUES('2022-01-04',134)\");\n",
    "SqlTask.ExecuteNonQuery(connMan, \"INSERT INTO Test VALUES('2022-01-05',42)\");\n",
    "Console.WriteLine(\"Preparation done!\");\n",
    "\n"
   ]
  },
  {
   "cell_type": "code",
   "execution_count": null,
   "metadata": {
    "dotnet_interactive": {
     "language": "csharp"
    },
    "polyglot_notebook": {
     "kernelName": "csharp"
    }
   },
   "outputs": [],
   "source": [
    "//Step 2: Loading data into dataframe and in-memory list\n",
    "\n",
    "#r \"nuget:ETLBox, 3.4.0\"\n",
    "#r \"nuget:ETLBox.SqlServer, 3.4.0\"\n",
    "#r \"nuget:ETLBox.Analysis, 3.4.0\"\n",
    "\n",
    "using ETLBox;\n",
    "using ETLBox.ControlFlow;\n",
    "using ETLBox.SqlServer;\n",
    "using ETLBox.DataFlow;\n",
    "using ETLBox.Analysis;\n",
    "\n",
    "Settings.MaxBufferSize = 10000;\n",
    "\n",
    "Console.WriteLine(\"Loading data from database!\");\n",
    "var source = new DbSource(connMan, \"Test\");\n",
    "var row = new RowTransformation(row => {\n",
    "    dynamic r = row as dynamic;\n",
    "    r.YValue = r.YValue * 1000;\n",
    "    return row;\n",
    "});\n",
    "var multicast = new Multicast();\n",
    "var memDest = new MemoryDestination();\n",
    "var dfDest = new DataFrameDestination();\n",
    "multicast.OnProgress = pc => Console.WriteLine($\"Records loaded from database: {pc}\");\n",
    "source.LinkTo(row);\n",
    "row.LinkTo(multicast);\n",
    "multicast.LinkTo(memDest);\n",
    "multicast.LinkTo(dfDest);\n",
    "Network.Execute(source);\n",
    "\n",
    "var data = memDest.Data;\n",
    "var df = dfDest.DataFrame;\n"
   ]
  },
  {
   "cell_type": "code",
   "execution_count": null,
   "metadata": {
    "dotnet_interactive": {
     "language": "csharp"
    },
    "polyglot_notebook": {
     "kernelName": "csharp"
    }
   },
   "outputs": [],
   "source": [
    "//Displaying the DataFrame\n",
    "df"
   ]
  },
  {
   "cell_type": "code",
   "execution_count": null,
   "metadata": {
    "dotnet_interactive": {
     "language": "csharp"
    },
    "polyglot_notebook": {
     "kernelName": "csharp"
    }
   },
   "outputs": [],
   "source": [
    "//Transforming the DataFrame\n",
    "df[\"x\"] = df[\"YValue\"] * 2;\n",
    "df"
   ]
  },
  {
   "cell_type": "code",
   "execution_count": null,
   "metadata": {
    "dotnet_interactive": {
     "language": "csharp"
    },
    "polyglot_notebook": {
     "kernelName": "csharp"
    }
   },
   "outputs": [],
   "source": [
    "//Using the loaded collection of data to load into a plot\n",
    "#r \"nuget:ScottPlot, 4.1.69\"\n",
    "\n",
    "using Microsoft.DotNet.Interactive.Formatting;\n",
    "\n",
    "// Setup a custom formatter to display plots as images\n",
    "Formatter.Register(typeof(ScottPlot.Plot), (p, w) =>\n",
    "    w.Write(((ScottPlot.Plot)p).GetImageHtml()), HtmlFormatter.MimeType);\n",
    "\n",
    "\n",
    "var plt = new ScottPlot.Plot(600,400);\n",
    "var dataX = memDest.Data.Select(row => (DateTime)(row as dynamic).XValue)\n",
    "                    .Select(dt => dt.ToOADate()).ToArray();\n",
    "var dataY = memDest.Data.Select(row => (double)(row as dynamic).YValue).ToArray();\n",
    "\n",
    "\n",
    "plt.XAxis.DateTimeFormat(true);\n",
    "plt.AddScatter(dataX, dataY);\n",
    "\n",
    "plt\n"
   ]
  }
 ],
 "metadata": {
  "kernelspec": {
   "display_name": ".NET (C#)",
   "language": "C#",
   "name": ".net-csharp"
  },
  "language_info": {
   "name": "polyglot-notebook"
  },
  "polyglot_notebook": {
   "kernelInfo": {
    "defaultKernelName": "csharp",
    "items": [
     {
      "aliases": [],
      "languageName": "csharp",
      "name": "csharp"
     }
    ]
   }
  }
 },
 "nbformat": 4,
 "nbformat_minor": 2
}
